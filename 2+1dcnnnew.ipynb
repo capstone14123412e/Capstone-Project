{
  "cells": [
    {
      "cell_type": "markdown",
      "metadata": {
        "id": "view-in-github",
        "colab_type": "text"
      },
      "source": [
        "<a href=\"https://colab.research.google.com/github/capstone14123412e/Capstone-Project/blob/main/2%2B1dcnnnew.ipynb\" target=\"_parent\"><img src=\"https://colab.research.google.com/assets/colab-badge.svg\" alt=\"Open In Colab\"/></a>"
      ]
    },
    {
      "cell_type": "code",
      "execution_count": null,
      "metadata": {
        "colab": {
          "base_uri": "https://localhost:8080/"
        },
        "id": "Ok1ODmXbxY9q",
        "outputId": "2d9a041c-3d3a-4b44-f6f5-88304b53cfdc"
      },
      "outputs": [
        {
          "output_type": "stream",
          "name": "stdout",
          "text": [
            "Mounted at /content/drive\n"
          ]
        }
      ],
      "source": [
        "import os\n",
        "import numpy as np\n",
        "import cv2\n",
        "import matplotlib.pyplot as plt\n",
        "from sklearn.model_selection import train_test_split\n",
        "from tensorflow.keras import layers, models, callbacks\n",
        "from tensorflow.keras.utils import to_categorical\n",
        "\n",
        "from google.colab import drive\n",
        "drive.mount('/content/drive')\n",
        "\n",
        "# Constants\n",
        "DATASET_PATH = \"/content/drive/MyDrive/ActionFinder/UCF50\"\n",
        "IMG_HEIGHT, IMG_WIDTH = 120, 120\n",
        "FRAMES_PER_VIDEO = 16\n",
        "NUM_CLASSES = 50  # UCF50 has 50 classes\n"
      ]
    },
    {
      "cell_type": "code",
      "execution_count": null,
      "metadata": {
        "id": "Zn3PmPPfx7wc"
      },
      "outputs": [],
      "source": [
        "# Function to load videos and preprocess them\n",
        "def load_videos(dataset_path):\n",
        "    videos, labels = [], []\n",
        "    class_folders = os.listdir(dataset_path)\n",
        "\n",
        "    for class_index, class_name in enumerate(class_folders):\n",
        "        class_folder = os.path.join(dataset_path, class_name)\n",
        "        video_files = os.listdir(class_folder)\n",
        "\n",
        "        for video_file in video_files:\n",
        "            video_path = os.path.join(class_folder, video_file)\n",
        "            cap = cv2.VideoCapture(video_path)\n",
        "            frames = []\n",
        "\n",
        "            while cap.isOpened():\n",
        "                ret, frame = cap.read()\n",
        "                if not ret:\n",
        "                    break\n",
        "                frame = cv2.resize(frame, (IMG_WIDTH, IMG_HEIGHT))\n",
        "                frames.append(frame)\n",
        "\n",
        "            cap.release()\n",
        "\n",
        "            # Select a fixed number of frames for each video\n",
        "            if len(frames) >= FRAMES_PER_VIDEO:\n",
        "                start = (len(frames) - FRAMES_PER_VIDEO) // 2\n",
        "                frames = frames[start:start + FRAMES_PER_VIDEO]\n",
        "                videos.append(np.array(frames))\n",
        "                labels.append(class_index)\n",
        "\n",
        "    return np.array(videos), np.array(labels)\n",
        "\n",
        "# Load videos\n",
        "videos, labels = load_videos(DATASET_PATH)\n",
        "labels = to_categorical(labels, num_classes=NUM_CLASSES)\n"
      ]
    },
    {
      "cell_type": "code",
      "execution_count": null,
      "metadata": {
        "id": "XhnE7LEnx74q"
      },
      "outputs": [],
      "source": [
        "# Split dataset into train, validation, and test sets\n",
        "X_train, X_temp, y_train, y_temp = train_test_split(videos, labels, test_size=0.3, random_state=42)\n",
        "X_val, X_test, y_val, y_test = train_test_split(X_temp, y_temp, test_size=0.5, random_state=42)\n"
      ]
    },
    {
      "cell_type": "code",
      "execution_count": null,
      "metadata": {
        "colab": {
          "base_uri": "https://localhost:8080/"
        },
        "id": "7-xobcnfx771",
        "outputId": "840a0eb3-e1eb-45da-c579-e986a40a2fd6"
      },
      "outputs": [
        {
          "output_type": "stream",
          "name": "stderr",
          "text": [
            "/usr/local/lib/python3.10/dist-packages/keras/src/layers/convolutional/base_conv.py:107: UserWarning: Do not pass an `input_shape`/`input_dim` argument to a layer. When using Sequential models, prefer using an `Input(shape)` object as the first layer in the model instead.\n",
            "  super().__init__(activity_regularizer=activity_regularizer, **kwargs)\n"
          ]
        }
      ],
      "source": [
        "# Model Definition with 2+1D CNN\n",
        "model = models.Sequential()\n",
        "\n",
        "from tensorflow.keras.regularizers import l2\n",
        "\n",
        "model.add(layers.Conv3D(32, (1, 3, 3), activation='relu', padding='same',\n",
        "                        input_shape=(FRAMES_PER_VIDEO, IMG_HEIGHT, IMG_WIDTH, 3),\n",
        "                        kernel_regularizer=l2(0.001)))\n",
        "\n",
        "model.add(layers.Conv3D(32, (3, 1, 1), activation='relu', padding='same'))\n",
        "model.add(layers.MaxPooling3D((1, 2, 2)))\n",
        "\n",
        "model.add(layers.Conv3D(64, (1, 3, 3), activation='relu', padding='same'))\n",
        "model.add(layers.Conv3D(64, (3, 1, 1), activation='relu', padding='same'))\n",
        "model.add(layers.MaxPooling3D((1, 2, 2)))\n",
        "\n",
        "model.add(layers.Conv3D(128, (1, 3, 3), activation='relu', padding='same'))\n",
        "model.add(layers.Conv3D(128, (3, 1, 1), activation='relu', padding='same'))\n",
        "model.add(layers.MaxPooling3D((1, 2, 2)))\n",
        "\n",
        "model.add(layers.Flatten())\n",
        "model.add(layers.Dense(128, activation='relu'))\n",
        "model.add(layers.Dropout(0.6))\n",
        "model.add(layers.Dense(NUM_CLASSES, activation='softmax'))\n"
      ]
    },
    {
      "cell_type": "code",
      "execution_count": null,
      "metadata": {
        "id": "dTYd3_0Jx7-v"
      },
      "outputs": [],
      "source": [
        "# Compile Model\n",
        "model.compile(optimizer='adam', loss='categorical_crossentropy', metrics=['accuracy'])\n"
      ]
    },
    {
      "cell_type": "code",
      "execution_count": null,
      "metadata": {
        "id": "OEJsgSMRx8A1"
      },
      "outputs": [],
      "source": [
        "# Callbacks for saving the model and early stopping\n",
        "model_save_path = '/content/drive/MyDrive/ActionFinder/UCF50_2plus1D_CNN.keras'\n",
        "checkpoint = callbacks.ModelCheckpoint(model_save_path, save_best_only=True, monitor='val_loss', mode='min')\n",
        "early_stopping = callbacks.EarlyStopping(monitor='val_loss', patience=5, restore_best_weights=True)\n"
      ]
    },
    {
      "cell_type": "code",
      "execution_count": null,
      "metadata": {
        "id": "SE13UOdDx8D5",
        "colab": {
          "base_uri": "https://localhost:8080/"
        },
        "outputId": "fe946f27-6f32-4850-9f6e-8374af91c8e9"
      },
      "outputs": [
        {
          "output_type": "stream",
          "name": "stdout",
          "text": [
            "Epoch 1/30\n",
            "\u001b[1m140/140\u001b[0m \u001b[32m━━━━━━━━━━━━━━━━━━━━\u001b[0m\u001b[37m\u001b[0m \u001b[1m70s\u001b[0m 390ms/step - accuracy: 0.0889 - loss: 70.1365 - val_accuracy: 0.2050 - val_loss: 2.5551 - learning_rate: 0.0010\n",
            "Epoch 2/30\n",
            "\u001b[1m140/140\u001b[0m \u001b[32m━━━━━━━━━━━━━━━━━━━━\u001b[0m\u001b[37m\u001b[0m \u001b[1m57s\u001b[0m 301ms/step - accuracy: 0.1505 - loss: 2.7618 - val_accuracy: 0.2385 - val_loss: 2.3253 - learning_rate: 0.0010\n",
            "Epoch 3/30\n",
            "\u001b[1m140/140\u001b[0m \u001b[32m━━━━━━━━━━━━━━━━━━━━\u001b[0m\u001b[37m\u001b[0m \u001b[1m90s\u001b[0m 361ms/step - accuracy: 0.2099 - loss: 2.4777 - val_accuracy: 0.3473 - val_loss: 2.0233 - learning_rate: 0.0010\n",
            "Epoch 4/30\n",
            "\u001b[1m140/140\u001b[0m \u001b[32m━━━━━━━━━━━━━━━━━━━━\u001b[0m\u001b[37m\u001b[0m \u001b[1m80s\u001b[0m 344ms/step - accuracy: 0.2775 - loss: 2.2009 - val_accuracy: 0.3766 - val_loss: 1.9120 - learning_rate: 0.0010\n",
            "Epoch 5/30\n",
            "\u001b[1m140/140\u001b[0m \u001b[32m━━━━━━━━━━━━━━━━━━━━\u001b[0m\u001b[37m\u001b[0m \u001b[1m77s\u001b[0m 309ms/step - accuracy: 0.2863 - loss: 2.1620 - val_accuracy: 0.4184 - val_loss: 1.7372 - learning_rate: 0.0010\n",
            "Epoch 6/30\n",
            "\u001b[1m140/140\u001b[0m \u001b[32m━━━━━━━━━━━━━━━━━━━━\u001b[0m\u001b[37m\u001b[0m \u001b[1m84s\u001b[0m 323ms/step - accuracy: 0.3512 - loss: 1.9542 - val_accuracy: 0.4644 - val_loss: 1.7029 - learning_rate: 0.0010\n",
            "Epoch 7/30\n",
            "\u001b[1m140/140\u001b[0m \u001b[32m━━━━━━━━━━━━━━━━━━━━\u001b[0m\u001b[37m\u001b[0m \u001b[1m87s\u001b[0m 360ms/step - accuracy: 0.3402 - loss: 1.9685 - val_accuracy: 0.4477 - val_loss: 1.6637 - learning_rate: 0.0010\n",
            "Epoch 8/30\n",
            "\u001b[1m140/140\u001b[0m \u001b[32m━━━━━━━━━━━━━━━━━━━━\u001b[0m\u001b[37m\u001b[0m \u001b[1m55s\u001b[0m 167ms/step - accuracy: 0.3833 - loss: 1.7525 - val_accuracy: 0.4770 - val_loss: 1.7284 - learning_rate: 0.0010\n",
            "Epoch 9/30\n",
            "\u001b[1m140/140\u001b[0m \u001b[32m━━━━━━━━━━━━━━━━━━━━\u001b[0m\u001b[37m\u001b[0m \u001b[1m67s\u001b[0m 355ms/step - accuracy: 0.4357 - loss: 1.6779 - val_accuracy: 0.4854 - val_loss: 1.5247 - learning_rate: 0.0010\n",
            "Epoch 10/30\n",
            "\u001b[1m140/140\u001b[0m \u001b[32m━━━━━━━━━━━━━━━━━━━━\u001b[0m\u001b[37m\u001b[0m \u001b[1m54s\u001b[0m 389ms/step - accuracy: 0.4542 - loss: 1.6050 - val_accuracy: 0.6067 - val_loss: 1.3568 - learning_rate: 0.0010\n",
            "Epoch 11/30\n",
            "\u001b[1m140/140\u001b[0m \u001b[32m━━━━━━━━━━━━━━━━━━━━\u001b[0m\u001b[37m\u001b[0m \u001b[1m73s\u001b[0m 328ms/step - accuracy: 0.5183 - loss: 1.3996 - val_accuracy: 0.5816 - val_loss: 1.2417 - learning_rate: 0.0010\n",
            "Epoch 12/30\n",
            "\u001b[1m140/140\u001b[0m \u001b[32m━━━━━━━━━━━━━━━━━━━━\u001b[0m\u001b[37m\u001b[0m \u001b[1m25s\u001b[0m 179ms/step - accuracy: 0.5527 - loss: 1.2238 - val_accuracy: 0.5356 - val_loss: 1.3432 - learning_rate: 0.0010\n",
            "Epoch 13/30\n",
            "\u001b[1m140/140\u001b[0m \u001b[32m━━━━━━━━━━━━━━━━━━━━\u001b[0m\u001b[37m\u001b[0m \u001b[1m39s\u001b[0m 166ms/step - accuracy: 0.5967 - loss: 1.1617 - val_accuracy: 0.5858 - val_loss: 1.2768 - learning_rate: 0.0010\n",
            "Epoch 14/30\n",
            "\u001b[1m140/140\u001b[0m \u001b[32m━━━━━━━━━━━━━━━━━━━━\u001b[0m\u001b[37m\u001b[0m \u001b[1m65s\u001b[0m 342ms/step - accuracy: 0.6341 - loss: 1.1059 - val_accuracy: 0.6192 - val_loss: 1.2174 - learning_rate: 0.0010\n",
            "Epoch 15/30\n",
            "\u001b[1m140/140\u001b[0m \u001b[32m━━━━━━━━━━━━━━━━━━━━\u001b[0m\u001b[37m\u001b[0m \u001b[1m76s\u001b[0m 301ms/step - accuracy: 0.6732 - loss: 0.9027 - val_accuracy: 0.6527 - val_loss: 1.1759 - learning_rate: 0.0010\n",
            "Epoch 16/30\n",
            "\u001b[1m140/140\u001b[0m \u001b[32m━━━━━━━━━━━━━━━━━━━━\u001b[0m\u001b[37m\u001b[0m \u001b[1m63s\u001b[0m 166ms/step - accuracy: 0.6972 - loss: 0.9005 - val_accuracy: 0.6569 - val_loss: 1.2737 - learning_rate: 0.0010\n",
            "Epoch 17/30\n",
            "\u001b[1m140/140\u001b[0m \u001b[32m━━━━━━━━━━━━━━━━━━━━\u001b[0m\u001b[37m\u001b[0m \u001b[1m23s\u001b[0m 167ms/step - accuracy: 0.7007 - loss: 0.8948 - val_accuracy: 0.6820 - val_loss: 1.2054 - learning_rate: 0.0010\n",
            "Epoch 18/30\n",
            "\u001b[1m140/140\u001b[0m \u001b[32m━━━━━━━━━━━━━━━━━━━━\u001b[0m\u001b[37m\u001b[0m \u001b[1m41s\u001b[0m 165ms/step - accuracy: 0.7095 - loss: 0.9091 - val_accuracy: 0.6987 - val_loss: 1.2536 - learning_rate: 0.0010\n",
            "Epoch 19/30\n",
            "\u001b[1m140/140\u001b[0m \u001b[32m━━━━━━━━━━━━━━━━━━━━\u001b[0m\u001b[37m\u001b[0m \u001b[1m66s\u001b[0m 346ms/step - accuracy: 0.7608 - loss: 0.6593 - val_accuracy: 0.7071 - val_loss: 0.9615 - learning_rate: 5.0000e-04\n",
            "Epoch 20/30\n",
            "\u001b[1m140/140\u001b[0m \u001b[32m━━━━━━━━━━━━━━━━━━━━\u001b[0m\u001b[37m\u001b[0m \u001b[1m57s\u001b[0m 166ms/step - accuracy: 0.8018 - loss: 0.5356 - val_accuracy: 0.6946 - val_loss: 1.0626 - learning_rate: 5.0000e-04\n",
            "Epoch 21/30\n",
            "\u001b[1m140/140\u001b[0m \u001b[32m━━━━━━━━━━━━━━━━━━━━\u001b[0m\u001b[37m\u001b[0m \u001b[1m41s\u001b[0m 167ms/step - accuracy: 0.8344 - loss: 0.4785 - val_accuracy: 0.6904 - val_loss: 1.0477 - learning_rate: 5.0000e-04\n",
            "Epoch 22/30\n",
            "\u001b[1m140/140\u001b[0m \u001b[32m━━━━━━━━━━━━━━━━━━━━\u001b[0m\u001b[37m\u001b[0m \u001b[1m41s\u001b[0m 167ms/step - accuracy: 0.8344 - loss: 0.4444 - val_accuracy: 0.7197 - val_loss: 1.0243 - learning_rate: 5.0000e-04\n",
            "Epoch 23/30\n",
            "\u001b[1m140/140\u001b[0m \u001b[32m━━━━━━━━━━━━━━━━━━━━\u001b[0m\u001b[37m\u001b[0m \u001b[1m24s\u001b[0m 168ms/step - accuracy: 0.8482 - loss: 0.4113 - val_accuracy: 0.7113 - val_loss: 1.1299 - learning_rate: 2.5000e-04\n",
            "Epoch 24/30\n",
            "\u001b[1m140/140\u001b[0m \u001b[32m━━━━━━━━━━━━━━━━━━━━\u001b[0m\u001b[37m\u001b[0m \u001b[1m41s\u001b[0m 165ms/step - accuracy: 0.8555 - loss: 0.4242 - val_accuracy: 0.7113 - val_loss: 1.1611 - learning_rate: 2.5000e-04\n",
            "\u001b[1m8/8\u001b[0m \u001b[32m━━━━━━━━━━━━━━━━━━━━\u001b[0m\u001b[37m\u001b[0m \u001b[1m13s\u001b[0m 814ms/step - accuracy: 0.7816 - loss: 0.7944\n",
            "Validation Loss: 0.9615, Validation Accuracy: 0.7071\n"
          ]
        }
      ],
      "source": [
        "from tensorflow.keras.callbacks import ReduceLROnPlateau, ModelCheckpoint, EarlyStopping\n",
        "\n",
        "# Callback: ReduceLROnPlateau\n",
        "reduce_lr = ReduceLROnPlateau(\n",
        "    monitor='val_loss',  # Monitor validation loss\n",
        "    factor=0.5,          # Reduce learning rate by a factor of 0.5\n",
        "    patience=3,          # Wait for 3 epochs of no improvement\n",
        "    min_lr=1e-6          # Minimum learning rate\n",
        ")\n",
        "\n",
        "# Callback: Save the best model during training\n",
        "checkpoint = ModelCheckpoint(\n",
        "    model_save_path,     # Path to save the best model\n",
        "    save_best_only=True, # Save only when the model improves\n",
        "    monitor='val_loss',  # Monitor validation loss\n",
        "    mode='min'           # Save when validation loss is minimized\n",
        ")\n",
        "\n",
        "# Train the model with ReduceLROnPlateau\n",
        "history = model.fit(\n",
        "    X_train, y_train,\n",
        "    epochs=30,\n",
        "    batch_size=8,\n",
        "    validation_data=(X_val, y_val),\n",
        "    callbacks=[checkpoint, early_stopping, reduce_lr]\n",
        ")\n",
        "\n",
        "# Evaluate the model\n",
        "val_loss, val_accuracy = model.evaluate(X_val, y_val)\n",
        "print(f'Validation Loss: {val_loss:.4f}, Validation Accuracy: {val_accuracy:.4f}')\n"
      ]
    },
    {
      "cell_type": "code",
      "execution_count": null,
      "metadata": {
        "id": "0dIb7SAyx8GU",
        "colab": {
          "base_uri": "https://localhost:8080/"
        },
        "outputId": "7273f6ee-3257-43f7-deb0-3540a0f0be22"
      },
      "outputs": [
        {
          "output_type": "stream",
          "name": "stdout",
          "text": [
            "\u001b[1m8/8\u001b[0m \u001b[32m━━━━━━━━━━━━━━━━━━━━\u001b[0m\u001b[37m\u001b[0m \u001b[1m1s\u001b[0m 160ms/step - accuracy: 0.7816 - loss: 0.7944\n",
            "Validation Loss: 0.9615, Validation Accuracy: 0.7071\n"
          ]
        }
      ],
      "source": [
        "# Validation code\n",
        "val_loss, val_accuracy = model.evaluate(X_val, y_val)\n",
        "print(f'Validation Loss: {val_loss:.4f}, Validation Accuracy: {val_accuracy:.4f}')\n"
      ]
    },
    {
      "cell_type": "code",
      "execution_count": null,
      "metadata": {
        "id": "9C_GKBRhx8JM"
      },
      "outputs": [],
      "source": [
        "# Save the final model\n",
        "model.save(model_save_path)\n"
      ]
    },
    {
      "cell_type": "code",
      "execution_count": null,
      "metadata": {
        "id": "6gv8W21Gx8L1",
        "colab": {
          "base_uri": "https://localhost:8080/",
          "height": 487
        },
        "outputId": "f3327b1c-008d-4512-9917-710dd83c0971"
      },
      "outputs": [
        {
          "output_type": "display_data",
          "data": {
            "text/plain": [
              "<Figure size 1200x500 with 2 Axes>"
            ],
            "image/png": "[encoded data removed]"
          },
          "metadata": {}
        }
      ],
      "source": [
        "# Plot training and validation accuracy and loss\n",
        "def plot_training_history(history):\n",
        "    plt.figure(figsize=(12, 5))\n",
        "\n",
        "    # Plot accuracy\n",
        "    plt.subplot(1, 2, 1)\n",
        "    plt.plot(history.history['accuracy'], label='Train Accuracy')\n",
        "    plt.plot(history.history['val_accuracy'], label='Val Accuracy')\n",
        "    plt.title('Training and Validation Accuracy')\n",
        "    plt.xlabel('Epochs')\n",
        "    plt.ylabel('Accuracy')\n",
        "    plt.legend()\n",
        "\n",
        "    # Plot loss\n",
        "    plt.subplot(1, 2, 2)\n",
        "    plt.plot(history.history['loss'], label='Train Loss')\n",
        "    plt.plot(history.history['val_loss'], label='Val Loss')\n",
        "    plt.title('Training and Validation Loss')\n",
        "    plt.xlabel('Epochs')\n",
        "    plt.ylabel('Loss')\n",
        "    plt.legend()\n",
        "\n",
        "    plt.show()\n",
        "\n",
        "plot_training_history(history)\n"
      ]
    },
    {
      "cell_type": "code",
      "execution_count": null,
      "metadata": {
        "id": "noAsdsVPx8O4"
      },
      "outputs": [],
      "source": []
    },
    {
      "cell_type": "code",
      "execution_count": null,
      "metadata": {
        "id": "xSTfpKxAx8Rh"
      },
      "outputs": [],
      "source": []
    },
    {
      "cell_type": "code",
      "execution_count": null,
      "metadata": {
        "id": "Xuzq4TBzx8Uh"
      },
      "outputs": [],
      "source": []
    },
    {
      "cell_type": "code",
      "execution_count": null,
      "metadata": {
        "id": "HUS8BqFGx8Xd"
      },
      "outputs": [],
      "source": []
    },
    {
      "cell_type": "code",
      "execution_count": null,
      "metadata": {
        "id": "9INSf3-Kx8aE"
      },
      "outputs": [],
      "source": []
    },
    {
      "cell_type": "code",
      "execution_count": null,
      "metadata": {
        "id": "bbTpVWOcx8dJ"
      },
      "outputs": [],
      "source": []
    },
    {
      "cell_type": "code",
      "execution_count": null,
      "metadata": {
        "id": "SdPW-1M3x8gS"
      },
      "outputs": [],
      "source": []
    },
    {
      "cell_type": "code",
      "execution_count": null,
      "metadata": {
        "id": "lSw5Nu-ix8jJ"
      },
      "outputs": [],
      "source": []
    },
    {
      "cell_type": "code",
      "execution_count": null,
      "metadata": {
        "id": "C__AlBvsx8mU"
      },
      "outputs": [],
      "source": []
    },
    {
      "cell_type": "code",
      "execution_count": null,
      "metadata": {
        "id": "0dGLpr-ux8pJ"
      },
      "outputs": [],
      "source": []
    },
    {
      "cell_type": "code",
      "execution_count": null,
      "metadata": {
        "id": "gnyiXR7Wx8ry"
      },
      "outputs": [],
      "source": []
    },
    {
      "cell_type": "code",
      "execution_count": null,
      "metadata": {
        "id": "bDYBRI8Bx8un"
      },
      "outputs": [],
      "source": []
    },
    {
      "cell_type": "code",
      "execution_count": null,
      "metadata": {
        "id": "GGpTUUe4x8xV"
      },
      "outputs": [],
      "source": []
    }
  ],
  "metadata": {
    "colab": {
      "provenance": [],
      "gpuType": "T4",
      "authorship_tag": "ABX9TyNGfzQL8jF6NUlMIPKKPFfZ",
      "include_colab_link": true
    },
    "kernelspec": {
      "display_name": "Python 3",
      "name": "python3"
    },
    "language_info": {
      "name": "python"
    },
    "accelerator": "GPU"
  },
  "nbformat": 4,
  "nbformat_minor": 0
}